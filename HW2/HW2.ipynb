{
 "cells": [
  {
   "cell_type": "code",
   "execution_count": null,
   "id": "6cedd631-3ede-4e5a-9d6c-4a30ab5e409d",
   "metadata": {},
   "outputs": [],
   "source": [
    "# TASK 1"
   ]
  },
  {
   "cell_type": "code",
   "execution_count": 2,
   "id": "c43c7307-f42e-4209-ab71-8344ef141c1f",
   "metadata": {},
   "outputs": [],
   "source": [
    "the_moscow_times_date = 'Wednesday, October 2, 2002'\n",
    "the_guardian_date = 'Friday, 11.10.13'\n",
    "daily_news_date = 'Thursday, 18 August 1977'"
   ]
  },
  {
   "cell_type": "code",
   "execution_count": 3,
   "id": "1f33a731-5840-48bf-a679-adb630462932",
   "metadata": {},
   "outputs": [],
   "source": [
    "from datetime import datetime"
   ]
  },
  {
   "cell_type": "code",
   "execution_count": 9,
   "id": "96798443-c715-4b4b-9cc5-f6306da5caf0",
   "metadata": {},
   "outputs": [
    {
     "name": "stdout",
     "output_type": "stream",
     "text": [
      "2\n"
     ]
    },
    {
     "data": {
      "text/plain": [
       "datetime.datetime(2002, 10, 2, 0, 0)"
      ]
     },
     "execution_count": 9,
     "metadata": {},
     "output_type": "execute_result"
    }
   ],
   "source": [
    "the_moscow_times_datetime = datetime.strptime(the_moscow_times_date, '%A, %B %d, %Y')\n",
    "print(the_moscow_times_datetime.weekday())\n",
    "the_moscow_times_datetime"
   ]
  },
  {
   "cell_type": "code",
   "execution_count": 14,
   "id": "0b5ae2e4-a188-4dd8-a729-fc7591e7a0ad",
   "metadata": {},
   "outputs": [
    {
     "name": "stdout",
     "output_type": "stream",
     "text": [
      "4\n"
     ]
    },
    {
     "data": {
      "text/plain": [
       "datetime.datetime(2013, 10, 11, 0, 0)"
      ]
     },
     "execution_count": 14,
     "metadata": {},
     "output_type": "execute_result"
    }
   ],
   "source": [
    "the_guardian_datetime = datetime.strptime(the_guardian_date, '%A, %d.%m.%y')\n",
    "print(the_guardian_datetime.weekday())\n",
    "the_guardian_datetime"
   ]
  },
  {
   "cell_type": "code",
   "execution_count": 17,
   "id": "46c55574-8d7c-4fb5-8764-aeb5cc7cb3f7",
   "metadata": {},
   "outputs": [
    {
     "name": "stdout",
     "output_type": "stream",
     "text": [
      "3\n"
     ]
    },
    {
     "data": {
      "text/plain": [
       "datetime.datetime(1977, 8, 18, 0, 0)"
      ]
     },
     "execution_count": 17,
     "metadata": {},
     "output_type": "execute_result"
    }
   ],
   "source": [
    "daily_news_datetime = datetime.strptime(daily_news_date, '%A, %d %B %Y')\n",
    "print(daily_news_datetime.weekday())\n",
    "daily_news_datetime"
   ]
  },
  {
   "cell_type": "code",
   "execution_count": 18,
   "id": "c976122b-e3b3-4a59-b8f7-451c3c3ce7ee",
   "metadata": {},
   "outputs": [],
   "source": [
    "# TASK 2"
   ]
  },
  {
   "cell_type": "code",
   "execution_count": 28,
   "id": "37ac3224-a80c-4911-8648-e43efd9ea377",
   "metadata": {},
   "outputs": [],
   "source": [
    "from datetime import timedelta\n",
    "\n",
    "def date_range(start_date, end_date):\n",
    "    try:\n",
    "        start_date_datetime = datetime.strptime(start_date, '%Y-%m-%d')\n",
    "    except Exception as _:\n",
    "        # print('Неверный формат start_date')\n",
    "        return []\n",
    "    else:\n",
    "        try:\n",
    "            end_date_datetime = datetime.strptime(end_date, '%Y-%m-%d')\n",
    "        except Exception as _:\n",
    "            # print('Неверный формат end_date')\n",
    "            return []\n",
    "        else:\n",
    "            if start_date_datetime > end_date_datetime:\n",
    "                # print('start_date > end_date')\n",
    "                return []\n",
    "            else:\n",
    "                current_datetime = start_date_datetime\n",
    "                ans = []\n",
    "                while current_datetime <= end_date_datetime:\n",
    "                    ans.append(current_datetime.strftime('%Y-%m-%d'))\n",
    "                    current_datetime += timedelta(days=1)\n",
    "                return ans"
   ]
  },
  {
   "cell_type": "code",
   "execution_count": 29,
   "id": "c324284e-71a9-4046-bd29-37990694dd4d",
   "metadata": {},
   "outputs": [
    {
     "data": {
      "text/plain": [
       "['2022-01-01', '2022-01-02', '2022-01-03']"
      ]
     },
     "execution_count": 29,
     "metadata": {},
     "output_type": "execute_result"
    }
   ],
   "source": [
    "date_range('2022-01-01', '2022-01-03')"
   ]
  },
  {
   "cell_type": "code",
   "execution_count": 30,
   "id": "09695854-37c6-4268-95c1-4447ab929da6",
   "metadata": {},
   "outputs": [
    {
     "data": {
      "text/plain": [
       "[]"
      ]
     },
     "execution_count": 30,
     "metadata": {},
     "output_type": "execute_result"
    }
   ],
   "source": [
    "date_range('2022-01-03', '2022-01-01')"
   ]
  },
  {
   "cell_type": "code",
   "execution_count": 32,
   "id": "2a930374-8d98-43c9-a39e-a79269de43ae",
   "metadata": {},
   "outputs": [
    {
     "data": {
      "text/plain": [
       "[]"
      ]
     },
     "execution_count": 32,
     "metadata": {},
     "output_type": "execute_result"
    }
   ],
   "source": [
    "date_range('2022-02-30', '2022-02-31')"
   ]
  }
 ],
 "metadata": {
  "kernelspec": {
   "display_name": "Python 3 (ipykernel)",
   "language": "python",
   "name": "python3"
  },
  "language_info": {
   "codemirror_mode": {
    "name": "ipython",
    "version": 3
   },
   "file_extension": ".py",
   "mimetype": "text/x-python",
   "name": "python",
   "nbconvert_exporter": "python",
   "pygments_lexer": "ipython3",
   "version": "3.12.5"
  }
 },
 "nbformat": 4,
 "nbformat_minor": 5
}
