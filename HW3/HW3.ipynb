{
 "cells": [
  {
   "cell_type": "code",
   "execution_count": 1,
   "id": "24be20af-a6f9-46ce-8be6-f4cecf268a6d",
   "metadata": {},
   "outputs": [],
   "source": [
    "from datetime import datetime"
   ]
  },
  {
   "cell_type": "code",
   "execution_count": 5,
   "id": "3c1ab9f1-e39d-44e7-8574-d92c9636aa62",
   "metadata": {},
   "outputs": [],
   "source": [
    "class Account:\n",
    "    def __init__(self, name, balance):\n",
    "        self.name = name\n",
    "        self.balance = balance\n",
    "        self.history = {}\n",
    "        self.transaction_id = 0\n",
    "\n",
    "    def deposit_money(self, money_to_deposit):\n",
    "        self.balance += money_to_deposit\n",
    "        print(f'Вы пополнили баланс на {money_to_deposit}')\n",
    "\n",
    "        self.transaction_id += 1\n",
    "        type = 'deposit'\n",
    "        operation_time = datetime.now()\n",
    "        operation_money = money_to_deposit\n",
    "        balance_after_transaction = self.balance\n",
    "        self.history[self.transaction_id] = {'type': type,\n",
    "                                             'operation_money': operation_money,\n",
    "                                             'balance_after_transaction': balance_after_transaction,\n",
    "                                             'operation_time': operation_time}\n",
    "\n",
    "    def withdraw_money(self, money_to_withdraw):\n",
    "        if money_to_withdraw > self.balance:\n",
    "            print(f'Не хватает денег на балансе: Доступно {self.balance}')\n",
    "            return\n",
    "        self.balance -= money_to_withdraw\n",
    "        print(f'Вы сняли {money_to_withdraw}')\n",
    "\n",
    "        self.transaction_id += 1\n",
    "        type = 'withdraw'\n",
    "        operation_time = datetime.now()\n",
    "        operation_money = money_to_withdraw\n",
    "        balance_after_transaction = self.balance\n",
    "        self.history[self.transaction_id] = {'type': type,\n",
    "                                             'operation_money': operation_money,\n",
    "                                             'balance_after_transaction': balance_after_transaction,\n",
    "                                             'operation_time': operation_time}\n",
    "\n",
    "    def get_current_balance(self):\n",
    "        return self.balance\n",
    "\n",
    "    def get_operations_history(self):\n",
    "        return self.history\n",
    "\n",
    "    def get_operations_history_by_id(self, transaction_id):\n",
    "        return self.history[transaction_id]"
   ]
  },
  {
   "cell_type": "code",
   "execution_count": 6,
   "id": "a2e5e6a8-8a27-4c11-8984-0d8904c014aa",
   "metadata": {},
   "outputs": [],
   "source": [
    "account = Account('Anton', 100)"
   ]
  },
  {
   "cell_type": "code",
   "execution_count": 7,
   "id": "f8887137-8bb7-4399-aabc-df03375ad1ab",
   "metadata": {},
   "outputs": [
    {
     "name": "stdout",
     "output_type": "stream",
     "text": [
      "Текущий баланс: 100\n",
      "{}\n"
     ]
    }
   ],
   "source": [
    "print(f'Текущий баланс: {account.get_current_balance()}')\n",
    "print(account.get_operations_history())"
   ]
  },
  {
   "cell_type": "code",
   "execution_count": 8,
   "id": "b46dcf72-daa0-47ac-bdaf-8948f793fd93",
   "metadata": {},
   "outputs": [
    {
     "name": "stdout",
     "output_type": "stream",
     "text": [
      "Вы пополнили баланс на 100\n"
     ]
    }
   ],
   "source": [
    "account.deposit_money(100)"
   ]
  },
  {
   "cell_type": "code",
   "execution_count": 9,
   "id": "f93a5122-9304-45e9-a25e-1a9b4f65b91b",
   "metadata": {},
   "outputs": [
    {
     "name": "stdout",
     "output_type": "stream",
     "text": [
      "Текущий баланс: 200\n",
      "{1: {'type': 'deposit', 'operation_money': 100, 'balance_after_transaction': 200, 'operation_time': datetime.datetime(2024, 10, 5, 19, 22, 38, 974633)}}\n",
      "{'type': 'deposit', 'operation_money': 100, 'balance_after_transaction': 200, 'operation_time': datetime.datetime(2024, 10, 5, 19, 22, 38, 974633)}\n"
     ]
    }
   ],
   "source": [
    "print(f'Текущий баланс: {account.get_current_balance()}')\n",
    "print(account.get_operations_history())\n",
    "print(account.get_operations_history_by_id(1))"
   ]
  },
  {
   "cell_type": "code",
   "execution_count": 10,
   "id": "5e499d65-5467-4774-a0c0-65fc8694c04e",
   "metadata": {},
   "outputs": [
    {
     "name": "stdout",
     "output_type": "stream",
     "text": [
      "Вы сняли 50\n"
     ]
    }
   ],
   "source": [
    "account.withdraw_money(50)"
   ]
  },
  {
   "cell_type": "code",
   "execution_count": 11,
   "id": "e1a9083f-88bb-42c4-b3d2-662f0010330e",
   "metadata": {},
   "outputs": [
    {
     "name": "stdout",
     "output_type": "stream",
     "text": [
      "Текущий баланс: 150\n",
      "{1: {'type': 'deposit', 'operation_money': 100, 'balance_after_transaction': 200, 'operation_time': datetime.datetime(2024, 10, 5, 19, 22, 38, 974633)}, 2: {'type': 'withdraw', 'operation_money': 50, 'balance_after_transaction': 150, 'operation_time': datetime.datetime(2024, 10, 5, 19, 22, 48, 734340)}}\n",
      "{'type': 'withdraw', 'operation_money': 50, 'balance_after_transaction': 150, 'operation_time': datetime.datetime(2024, 10, 5, 19, 22, 48, 734340)}\n"
     ]
    }
   ],
   "source": [
    "print(f'Текущий баланс: {account.get_current_balance()}')\n",
    "print(account.get_operations_history())\n",
    "print(account.get_operations_history_by_id(2))"
   ]
  },
  {
   "cell_type": "code",
   "execution_count": 12,
   "id": "3919a1ce-455e-49f3-b731-d87fa3b3639e",
   "metadata": {},
   "outputs": [
    {
     "name": "stdout",
     "output_type": "stream",
     "text": [
      "Не хватает денег на балансе: Доступно 150\n"
     ]
    }
   ],
   "source": [
    "account.withdraw_money(1000)"
   ]
  },
  {
   "cell_type": "code",
   "execution_count": 13,
   "id": "a6e3ff88-7187-4881-87f8-9153ccda59c3",
   "metadata": {},
   "outputs": [
    {
     "name": "stdout",
     "output_type": "stream",
     "text": [
      "Текущий баланс: 150\n",
      "{1: {'type': 'deposit', 'operation_money': 100, 'balance_after_transaction': 200, 'operation_time': datetime.datetime(2024, 10, 5, 19, 22, 38, 974633)}, 2: {'type': 'withdraw', 'operation_money': 50, 'balance_after_transaction': 150, 'operation_time': datetime.datetime(2024, 10, 5, 19, 22, 48, 734340)}}\n",
      "{'type': 'withdraw', 'operation_money': 50, 'balance_after_transaction': 150, 'operation_time': datetime.datetime(2024, 10, 5, 19, 22, 48, 734340)}\n"
     ]
    }
   ],
   "source": [
    "print(f'Текущий баланс: {account.get_current_balance()}')\n",
    "print(account.get_operations_history())\n",
    "print(account.get_operations_history_by_id(2))"
   ]
  },
  {
   "cell_type": "code",
   "execution_count": null,
   "id": "4af91db6-25da-4731-a6dd-865864de9ea2",
   "metadata": {},
   "outputs": [],
   "source": []
  }
 ],
 "metadata": {
  "kernelspec": {
   "display_name": "Python 3 (ipykernel)",
   "language": "python",
   "name": "python3"
  },
  "language_info": {
   "codemirror_mode": {
    "name": "ipython",
    "version": 3
   },
   "file_extension": ".py",
   "mimetype": "text/x-python",
   "name": "python",
   "nbconvert_exporter": "python",
   "pygments_lexer": "ipython3",
   "version": "3.12.5"
  }
 },
 "nbformat": 4,
 "nbformat_minor": 5
}
