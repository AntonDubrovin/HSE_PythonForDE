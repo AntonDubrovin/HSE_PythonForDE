{
 "cells": [
  {
   "cell_type": "code",
   "execution_count": 31,
   "id": "75d9405d-8e99-4cf0-94ce-4fe7979d00ef",
   "metadata": {},
   "outputs": [],
   "source": [
    "# Task 1"
   ]
  },
  {
   "cell_type": "code",
   "execution_count": 32,
   "id": "ef51d403-337c-46f9-ba80-df395240805a",
   "metadata": {},
   "outputs": [
    {
     "name": "stdout",
     "output_type": "stream",
     "text": [
      "{\"user_id\": \"user_id\", \"category\": \"category\"}\n",
      "\n",
      "{\"user_id\": \"df85c3cd61\", \"category\": \"Бытовая техника\"}\n",
      "\n"
     ]
    }
   ],
   "source": [
    "purchase_log_file = open('MaterialsHW1/purchase_log.txt', 'r')\n",
    "purchase_log_file_content = purchase_log_file.readlines()\n",
    "print(purchase_log_file_content[0])\n",
    "print(purchase_log_file_content[-1])"
   ]
  },
  {
   "cell_type": "code",
   "execution_count": 33,
   "id": "b199e89a-2ccf-4b20-9522-bd7abeaca4d3",
   "metadata": {},
   "outputs": [],
   "source": [
    "import json\n",
    "\n",
    "purchases = dict()\n",
    "for line in purchase_log_file_content[1:]:\n",
    "    json_line = json.loads(line)\n",
    "    user_id = json_line['user_id']\n",
    "    category = json_line['category']\n",
    "    purchases[user_id] = category"
   ]
  },
  {
   "cell_type": "code",
   "execution_count": 34,
   "id": "5a95feef-49a2-495d-a3d8-80fd4196fed7",
   "metadata": {},
   "outputs": [
    {
     "name": "stdout",
     "output_type": "stream",
     "text": [
      "1840e0b9d4 Продукты\n",
      "4e4f90fcfb Электроника\n"
     ]
    }
   ],
   "source": [
    "i = 0\n",
    "for key, value in purchases.items():\n",
    "    print(key, value)\n",
    "    i += 1\n",
    "    if i == 2:\n",
    "        break"
   ]
  },
  {
   "cell_type": "code",
   "execution_count": 35,
   "id": "df6dd07f-e11c-4be2-9c4a-4852e6bd6af4",
   "metadata": {},
   "outputs": [],
   "source": [
    "# Task 2"
   ]
  },
  {
   "cell_type": "code",
   "execution_count": 36,
   "id": "f9d3dfc6-519a-40ba-8512-e0a17435c3a1",
   "metadata": {},
   "outputs": [
    {
     "name": "stdout",
     "output_type": "stream",
     "text": [
      "user_id,source,category\n",
      "1840e0b9d4,other,Продукты\n",
      "4e4f90fcfb,context,Электроника\n"
     ]
    }
   ],
   "source": [
    "import csv\n",
    "with open('MaterialsHW1/funnel.csv', 'w') as funnel_file:\n",
    "    file_writer = csv.writer(funnel_file, delimiter=',')\n",
    "    file_writer.writerow(['user_id', 'source', 'category'])\n",
    "    print(','.join(['user_id', 'source', 'category']))\n",
    "    with open('MaterialsHW1/visit_log.csv', 'r') as visit_log_file:\n",
    "        file_reader = csv.reader(visit_log_file, delimiter=',')\n",
    "        i = 0\n",
    "        next(file_reader) # skip first line with headers\n",
    "        for line in file_reader:\n",
    "            user_id = line[0]\n",
    "            source = line[1]\n",
    "    \n",
    "            category = purchases.get(user_id)\n",
    "            if category is not None:\n",
    "                file_writer.writerow([user_id, source, category])\n",
    "                if i < 2:\n",
    "                    print(','.join([user_id, source, category]))\n",
    "                    i += 1"
   ]
  }
 ],
 "metadata": {
  "kernelspec": {
   "display_name": "Python 3 (ipykernel)",
   "language": "python",
   "name": "python3"
  },
  "language_info": {
   "codemirror_mode": {
    "name": "ipython",
    "version": 3
   },
   "file_extension": ".py",
   "mimetype": "text/x-python",
   "name": "python",
   "nbconvert_exporter": "python",
   "pygments_lexer": "ipython3",
   "version": "3.12.5"
  }
 },
 "nbformat": 4,
 "nbformat_minor": 5
}
