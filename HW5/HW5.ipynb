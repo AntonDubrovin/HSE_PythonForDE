{
 "cells": [
  {
   "cell_type": "code",
   "execution_count": 12,
   "id": "7c598514-4637-4d97-9066-d314e1e42843",
   "metadata": {},
   "outputs": [
    {
     "name": "stdout",
     "output_type": "stream",
     "text": [
      "Время выполнянеия 1.879603624343872\n",
      "[9999, 19998]\n",
      "Время выполнянеия 19.465205669403076\n",
      "[99999, 199998]\n"
     ]
    }
   ],
   "source": [
    "import threading\n",
    "import time\n",
    "\n",
    "def calculate_formula_1(x, results):\n",
    "    result = x**2 - x**2 + x * 4 - x * 5 + x + x\n",
    "    results[0] = result\n",
    "\n",
    "def calculate_formula_2(x, results):\n",
    "    result = x + x\n",
    "    results[1] = result\n",
    "\n",
    "def calculate_formula_3(results):\n",
    "    result = results[0] + results[1]\n",
    "    return result\n",
    "\n",
    "def run_calculations(iterations):\n",
    "    \n",
    "    results = [None, None]\n",
    "    \n",
    "    for i in range(iterations):\n",
    "        thread_1 = threading.Thread(target=calculate_formula_1, args=(i, results))\n",
    "        thread_2 = threading.Thread(target=calculate_formula_2, args=(i, results))\n",
    "        thread_1.start()\n",
    "        thread_2.start()\n",
    "        thread_1.join()\n",
    "        thread_2.join()\n",
    "        \n",
    "        calculate_formula_3(results)\n",
    "    return results\n",
    "\n",
    "start_time = time.time()\n",
    "results_10k = run_calculations(10000)\n",
    "end_time = time.time()\n",
    "print(f'Время выполнянеия {end_time - start_time}')\n",
    "print(results_10k)\n",
    "\n",
    "start_time = time.time()\n",
    "results_100k = run_calculations(100000)\n",
    "end_time = time.time()\n",
    "print(f'Время выполнянеия {end_time - start_time}')\n",
    "print(results_100k)"
   ]
  }
 ],
 "metadata": {
  "kernelspec": {
   "display_name": "Python 3 (ipykernel)",
   "language": "python",
   "name": "python3"
  },
  "language_info": {
   "codemirror_mode": {
    "name": "ipython",
    "version": 3
   },
   "file_extension": ".py",
   "mimetype": "text/x-python",
   "name": "python",
   "nbconvert_exporter": "python",
   "pygments_lexer": "ipython3",
   "version": "3.12.5"
  }
 },
 "nbformat": 4,
 "nbformat_minor": 5
}
