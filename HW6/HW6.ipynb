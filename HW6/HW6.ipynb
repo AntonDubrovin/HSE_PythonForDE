{
 "cells": [
  {
   "cell_type": "code",
   "execution_count": 1,
   "id": "ec340f6a-f711-428a-a030-abc6bf81965f",
   "metadata": {},
   "outputs": [],
   "source": [
    "import pandas"
   ]
  },
  {
   "cell_type": "code",
   "execution_count": 2,
   "id": "b9172bac-18a7-4557-9cae-1b7da51269c5",
   "metadata": {},
   "outputs": [
    {
     "data": {
      "text/plain": [
       "Index(['Customer ID', 'Age', 'Gender', 'Loyalty Member', 'Product Type', 'SKU',\n",
       "       'Rating', 'Order Status', 'Payment Method', 'Total Price', 'Unit Price',\n",
       "       'Quantity', 'Purchase Date', 'Shipping Type', 'Add-ons Purchased',\n",
       "       'Add-on Total'],\n",
       "      dtype='object')"
      ]
     },
     "execution_count": 2,
     "metadata": {},
     "output_type": "execute_result"
    }
   ],
   "source": [
    "file = pandas.read_csv('Electronic_sales_Sep2023-Sep2024.csv', sep=',')\n",
    "file.columns"
   ]
  },
  {
   "cell_type": "code",
   "execution_count": 3,
   "id": "355ac6a5-6e8f-4f10-95f4-a623079082f1",
   "metadata": {},
   "outputs": [],
   "source": [
    "# TASK 1"
   ]
  },
  {
   "cell_type": "code",
   "execution_count": 4,
   "id": "6d664351-1b21-4a98-b9a2-e8da09b572a5",
   "metadata": {},
   "outputs": [
    {
     "data": {
      "text/html": [
       "<div>\n",
       "<style scoped>\n",
       "    .dataframe tbody tr th:only-of-type {\n",
       "        vertical-align: middle;\n",
       "    }\n",
       "\n",
       "    .dataframe tbody tr th {\n",
       "        vertical-align: top;\n",
       "    }\n",
       "\n",
       "    .dataframe thead th {\n",
       "        text-align: right;\n",
       "    }\n",
       "</style>\n",
       "<table border=\"1\" class=\"dataframe\">\n",
       "  <thead>\n",
       "    <tr style=\"text-align: right;\">\n",
       "      <th></th>\n",
       "      <th>Total Price</th>\n",
       "      <th>Add-on Total</th>\n",
       "      <th>Payment Method</th>\n",
       "    </tr>\n",
       "    <tr>\n",
       "      <th>Customer ID</th>\n",
       "      <th></th>\n",
       "      <th></th>\n",
       "      <th></th>\n",
       "    </tr>\n",
       "  </thead>\n",
       "  <tbody>\n",
       "    <tr>\n",
       "      <th>1000</th>\n",
       "      <td>6279.42</td>\n",
       "      <td>66.30</td>\n",
       "      <td>Credit Card</td>\n",
       "    </tr>\n",
       "    <tr>\n",
       "      <th>1002</th>\n",
       "      <td>5020.60</td>\n",
       "      <td>60.16</td>\n",
       "      <td>Credit Card</td>\n",
       "    </tr>\n",
       "    <tr>\n",
       "      <th>1003</th>\n",
       "      <td>41.50</td>\n",
       "      <td>35.56</td>\n",
       "      <td>Cash</td>\n",
       "    </tr>\n",
       "    <tr>\n",
       "      <th>1004</th>\n",
       "      <td>83.00</td>\n",
       "      <td>65.78</td>\n",
       "      <td>Credit Card</td>\n",
       "    </tr>\n",
       "    <tr>\n",
       "      <th>1005</th>\n",
       "      <td>11779.11</td>\n",
       "      <td>75.33</td>\n",
       "      <td>Paypal</td>\n",
       "    </tr>\n",
       "  </tbody>\n",
       "</table>\n",
       "</div>"
      ],
      "text/plain": [
       "             Total Price  Add-on Total Payment Method\n",
       "Customer ID                                          \n",
       "1000             6279.42         66.30    Credit Card\n",
       "1002             5020.60         60.16    Credit Card\n",
       "1003               41.50         35.56           Cash\n",
       "1004               83.00         65.78    Credit Card\n",
       "1005            11779.11         75.33         Paypal"
      ]
     },
     "execution_count": 4,
     "metadata": {},
     "output_type": "execute_result"
    }
   ],
   "source": [
    "prices_df = file[['Customer ID', 'Total Price', 'Add-on Total']].groupby(['Customer ID']).sum()\n",
    "prefer_payment_method = file[['Customer ID', 'Payment Method']].groupby(['Customer ID']).agg(lambda x: x.value_counts().idxmax())\n",
    "answer_df = pandas.merge(prices_df, prefer_payment_method, on='Customer ID')\n",
    "answer_df.head()"
   ]
  },
  {
   "cell_type": "code",
   "execution_count": 5,
   "id": "bdcc5e28-033c-42f8-8463-f2f3f40656a5",
   "metadata": {},
   "outputs": [],
   "source": [
    "# TASK 2"
   ]
  },
  {
   "cell_type": "code",
   "execution_count": 6,
   "id": "6fff2376-a348-438c-8080-5341b34984fa",
   "metadata": {},
   "outputs": [
    {
     "name": "stdout",
     "output_type": "stream",
     "text": [
      "               Total Price\n",
      "Shipping Type             \n",
      "Expedited      12437526.21\n",
      "Express         8685215.62\n",
      "Overnight       8704828.17\n",
      "Same Day       12432024.82\n",
      "Standard       21343073.55\n"
     ]
    }
   ],
   "source": [
    "prices_shipping = file[['Shipping Type', 'Total Price']].groupby(['Shipping Type']).sum()\n",
    "print(prices_shipping.head())"
   ]
  },
  {
   "cell_type": "code",
   "execution_count": 7,
   "id": "61754202-20a6-4b20-9161-20350ba9277b",
   "metadata": {},
   "outputs": [
    {
     "name": "stdout",
     "output_type": "stream",
     "text": [
      "              Total Price\n",
      "Product Type             \n",
      "Headphones     4041400.24\n",
      "Laptop        12296239.97\n",
      "Smartphone    21516754.69\n",
      "Smartwatch    14036273.06\n",
      "Tablet        11712000.41\n"
     ]
    }
   ],
   "source": [
    "prices_product = file[['Product Type', 'Total Price']].groupby(['Product Type']).sum()\n",
    "print(prices_product.head())"
   ]
  },
  {
   "cell_type": "code",
   "execution_count": 8,
   "id": "5823367e-091e-4bfb-b31f-8fb9cac22c0f",
   "metadata": {},
   "outputs": [],
   "source": [
    "file['Month Date'] = pandas.to_datetime(file['Purchase Date'])"
   ]
  },
  {
   "cell_type": "code",
   "execution_count": 11,
   "id": "a48ef48b-effd-482e-8db9-b09f25d212f2",
   "metadata": {},
   "outputs": [
    {
     "name": "stdout",
     "output_type": "stream",
     "text": [
      "            Total Price\n",
      "Month Date             \n",
      "2023-09-30    481961.79\n",
      "2023-10-31   2318466.35\n",
      "2023-11-30   2068434.14\n",
      "2023-12-31   1980700.33\n",
      "2024-01-31   6620172.47\n"
     ]
    }
   ],
   "source": [
    "month_price = file[['Month Date', 'Total Price']].groupby(pandas.Grouper(key='Month Date', freq='ME')).sum()\n",
    "print(month_price.head())"
   ]
  },
  {
   "cell_type": "code",
   "execution_count": 12,
   "id": "3aa66283-665f-4aa9-81cb-19d12134f92a",
   "metadata": {},
   "outputs": [
    {
     "name": "stdout",
     "output_type": "stream",
     "text": [
      "            Total Price\n",
      "Month Date             \n",
      "2023-09-30    481961.79\n",
      "2023-12-31   6367600.82\n",
      "2024-03-31  18678236.37\n",
      "2024-06-30  19795930.14\n",
      "2024-09-30  18278939.25\n"
     ]
    }
   ],
   "source": [
    "quarter_price = month_price = file[['Month Date', 'Total Price']].groupby(pandas.Grouper(key='Month Date', freq='QE')).sum()\n",
    "print(quarter_price.head())"
   ]
  }
 ],
 "metadata": {
  "kernelspec": {
   "display_name": "Python 3 (ipykernel)",
   "language": "python",
   "name": "python3"
  },
  "language_info": {
   "codemirror_mode": {
    "name": "ipython",
    "version": 3
   },
   "file_extension": ".py",
   "mimetype": "text/x-python",
   "name": "python",
   "nbconvert_exporter": "python",
   "pygments_lexer": "ipython3",
   "version": "3.12.5"
  }
 },
 "nbformat": 4,
 "nbformat_minor": 5
}
