{
 "cells": [
  {
   "cell_type": "code",
   "execution_count": 1,
   "id": "8e93bc60-b654-4549-9fa2-37cf93c632a7",
   "metadata": {},
   "outputs": [],
   "source": [
    "# Task1"
   ]
  },
  {
   "cell_type": "code",
   "execution_count": 12,
   "id": "d00cf2cb-e092-40ae-a20e-1de4ab1f39a3",
   "metadata": {},
   "outputs": [],
   "source": [
    "import re\n",
    "\n",
    "def check_russian_car_number(car_number):\n",
    "    pattern = re.compile(r'\\b([АВЕКМНОРСТУ]{1})([0-9]{3})([АВЕКМНОРСТУ]{2})([0-9]{2,3})\\b')\n",
    "    return True if pattern.fullmatch(car_number) else False"
   ]
  },
  {
   "cell_type": "code",
   "execution_count": 16,
   "id": "4c142a90-9f5c-4d55-96d1-ac4466ca581a",
   "metadata": {},
   "outputs": [
    {
     "name": "stdout",
     "output_type": "stream",
     "text": [
      "True\n"
     ]
    }
   ],
   "source": [
    "print(check_russian_car_number('А222ВС296'))"
   ]
  },
  {
   "cell_type": "code",
   "execution_count": 17,
   "id": "ae54b9cf-3b63-4d3c-9e16-6797dcfb3acf",
   "metadata": {},
   "outputs": [
    {
     "name": "stdout",
     "output_type": "stream",
     "text": [
      "False\n"
     ]
    }
   ],
   "source": [
    "print(check_russian_car_number('АБ22ВВ193'))"
   ]
  },
  {
   "cell_type": "code",
   "execution_count": 18,
   "id": "5df5bc77-7abc-4c44-a435-34dca499c83a",
   "metadata": {},
   "outputs": [],
   "source": [
    "# Task 2"
   ]
  },
  {
   "cell_type": "code",
   "execution_count": 28,
   "id": "a3bbc9fb-57fc-4087-b694-17b0fc08e311",
   "metadata": {},
   "outputs": [],
   "source": [
    "def remove_dublicates(some_string):\n",
    "    return re.sub(r'(\\w+)(\\s+\\1)+', r'\\1', some_string)"
   ]
  },
  {
   "cell_type": "code",
   "execution_count": 29,
   "id": "a81d65e9-3670-40b5-92c9-a3e6f65335a6",
   "metadata": {},
   "outputs": [
    {
     "name": "stdout",
     "output_type": "stream",
     "text": [
      "Напишите функцию, которая будет удалять все последовательные повторы слов из заданной строки при помощи регулярных выражений\n"
     ]
    }
   ],
   "source": [
    "some_string = 'Напишите функцию функцию, которая будет будет будет будет удалять все все все все последовательные повторы слов из из из из заданной строки строки при помощи регулярных выражений'\n",
    "print(remove_dublicates(some_string))"
   ]
  }
 ],
 "metadata": {
  "kernelspec": {
   "display_name": "Python 3 (ipykernel)",
   "language": "python",
   "name": "python3"
  },
  "language_info": {
   "codemirror_mode": {
    "name": "ipython",
    "version": 3
   },
   "file_extension": ".py",
   "mimetype": "text/x-python",
   "name": "python",
   "nbconvert_exporter": "python",
   "pygments_lexer": "ipython3",
   "version": "3.12.5"
  }
 },
 "nbformat": 4,
 "nbformat_minor": 5
}
